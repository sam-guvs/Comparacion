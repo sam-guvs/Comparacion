{
 "cells": [
  {
   "cell_type": "markdown",
   "id": "7b9ed682",
   "metadata": {},
   "source": [
    "## Probabilidad y Estadística, A3. \n",
    "\n",
    "## Samara Nataly Vásquez Guzmán\n",
    "Matrícula 202060472."
   ]
  },
  {
   "cell_type": "markdown",
   "id": "482cc50e",
   "metadata": {},
   "source": [
    "* A2: Siguiendo los procedimientos mostrados, realizar un experimento con 100000 lanzamientos de monedas. Enviar los resultados.\n",
    "\n"
   ]
  },
  {
   "cell_type": "code",
   "execution_count": 1,
   "id": "da9029a8",
   "metadata": {},
   "outputs": [],
   "source": [
    "import numpy as np\n",
    "import pandas as pd\n",
    "import random\n",
    "import matplotlib.pyplot as plt\n",
    "np.random.seed(42)"
   ]
  },
  {
   "cell_type": "markdown",
   "id": "82a826e4",
   "metadata": {},
   "source": [
    "Sea un experimento con 100000 lanzamientos de monedas, teniendo una probabilidad del 50% de obtener cara y 50% de obtener cruz. \n",
    "Por lo que se contabilizará el número de caras y cruces obtenidos. "
   ]
  },
  {
   "cell_type": "code",
   "execution_count": 2,
   "id": "263f1dca",
   "metadata": {},
   "outputs": [
    {
     "name": "stdout",
     "output_type": "stream",
     "text": [
      "Número de caras: 49844 \n",
      "Número de cruces: 50156\n"
     ]
    }
   ],
   "source": [
    "np.random.seed(42)\n",
    "n = 100000 # n es el número de lanzamientos de la moneda.\n",
    "p = 0.5 # p es la probabibilidad del 50% para obtener una cara o una cruz.\n",
    "k = np.random.binomial(n, p) # No. de caras\n",
    "c = n-k #No. de cruces\n",
    "print('Número de caras:', k, '\\nNúmero de cruces:', c)"
   ]
  },
  {
   "cell_type": "markdown",
   "id": "4b373ef5",
   "metadata": {},
   "source": [
    "Ahora, sea un experimento con 100000 lanzamientos de monedas, dividido en 10 lanzamientos de 10000 lanzamientos para observar la probabilidad de obtener $x$ caras en 10 lanzamientos de una moneda."
   ]
  },
  {
   "cell_type": "code",
   "execution_count": 3,
   "id": "2d14ba32",
   "metadata": {},
   "outputs": [],
   "source": [
    "np.random.seed(42)"
   ]
  },
  {
   "cell_type": "code",
   "execution_count": 4,
   "id": "9d937388",
   "metadata": {},
   "outputs": [
    {
     "data": {
      "text/plain": [
       "array([4, 8, 6, ..., 8, 5, 4])"
      ]
     },
     "execution_count": 4,
     "metadata": {},
     "output_type": "execute_result"
    }
   ],
   "source": [
    "n = 10\n",
    "p = 0.5\n",
    "size = 10000\n",
    "x = np.random.binomial(n=n, p=p, size=size)\n",
    "x"
   ]
  },
  {
   "cell_type": "code",
   "execution_count": 5,
   "id": "35f676f2",
   "metadata": {},
   "outputs": [
    {
     "data": {
      "text/plain": [
       "[16, 85, 451, 1215, 2055, 2509, 2021, 1121, 436, 84]"
      ]
     },
     "execution_count": 5,
     "metadata": {},
     "output_type": "execute_result"
    }
   ],
   "source": [
    "[np.equal(x,i).sum() for i in range(n)] # No. de veces que se obtuvieron 0, 1, 2, 3, 4, 5, 6, 7, 8, 9 caras en cada experimento."
   ]
  },
  {
   "cell_type": "code",
   "execution_count": 6,
   "id": "e60b7c43",
   "metadata": {},
   "outputs": [
    {
     "name": "stdout",
     "output_type": "stream",
     "text": [
      "[0.0016, 0.0085, 0.0451, 0.1215, 0.2055, 0.2509, 0.2021, 0.1121, 0.0436, 0.0084]\n"
     ]
    }
   ],
   "source": [
    "probs_100 = [np.equal(x, i).mean() for i in range(n)] # Probabilidad de obtener cara un no. de veces entre 0 y 9 en cada experimento.\n",
    "print(probs_100)"
   ]
  },
  {
   "cell_type": "code",
   "execution_count": 10,
   "id": "c08da54d",
   "metadata": {
    "scrolled": true
   },
   "outputs": [
    {
     "data": {
      "text/plain": [
       "Text(0, 0.5, 'Probabilidad')"
      ]
     },
     "execution_count": 10,
     "metadata": {},
     "output_type": "execute_result"
    },
    {
     "data": {
      "image/png": "[encoded data removed]",
      "text/plain": [
       "<Figure size 432x288 with 1 Axes>"
      ]
     },
     "metadata": {
      "needs_background": "light"
     },
     "output_type": "display_data"
    }
   ],
   "source": [
    "plt.xticks(range(n))\n",
    "plt.plot(list(range(n)), probs_100, color='green', marker='o')\n",
    "plt.xlabel('Número de caras',fontsize=14)\n",
    "plt.ylabel('Probabilidad',fontsize=14)"
   ]
  },
  {
   "cell_type": "markdown",
   "id": "4b699f87",
   "metadata": {},
   "source": [
    "Podemos ver que la probabilidad de ver 5 caras es la más alta que podemos esperar, con un 25%. "
   ]
  },
  {
   "cell_type": "code",
   "execution_count": null,
   "id": "0a412d82",
   "metadata": {},
   "outputs": [],
   "source": []
  }
 ],
 "metadata": {
  "kernelspec": {
   "display_name": "Python 3 (ipykernel)",
   "language": "python",
   "name": "python3"
  },
  "language_info": {
   "codemirror_mode": {
    "name": "ipython",
    "version": 3
   },
   "file_extension": ".py",
   "mimetype": "text/x-python",
   "name": "python",
   "nbconvert_exporter": "python",
   "pygments_lexer": "ipython3",
   "version": "3.9.12"
  }
 },
 "nbformat": 4,
 "nbformat_minor": 5
}
